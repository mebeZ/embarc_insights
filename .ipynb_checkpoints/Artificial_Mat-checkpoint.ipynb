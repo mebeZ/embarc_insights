{
 "cells": [
  {
   "cell_type": "code",
   "execution_count": 1,
   "metadata": {},
   "outputs": [
    {
     "name": "stdout",
     "output_type": "stream",
     "text": [
      "hello world\n"
     ]
    }
   ],
   "source": [
    "def main():\n",
    "    print(\"hello world\")\n",
    "    \n",
    "if __name__ == \"__main__\":\n",
    "    main()"
   ]
  },
  {
   "cell_type": "code",
   "execution_count": 6,
   "metadata": {},
   "outputs": [],
   "source": [
    "import numpy as np\n",
    "import csv\n",
    "import scipy.io\n",
    "import xlrd\n",
    "import pandas as pd\n",
    "from pandas import ExcelFile\n",
    "from pandas import ExcelWriter\n",
    "import os\n",
    "from base.ipynb import "
   ]
  },
  {
   "cell_type": "code",
   "execution_count": 3,
   "metadata": {},
   "outputs": [],
   "source": [
    "rootdir = 'C:/Users/Zman/Desktop/Jiook/code_embarc/data/connectome_fmri'"
   ]
  },
  {
   "cell_type": "code",
   "execution_count": 14,
   "metadata": {},
   "outputs": [],
   "source": [
    "# method 1: find all patients in file, then compare ser_mor and fmri_list files, eliminate, and then compare remaining names with all patients, eliminate\n",
    "# method 2: look at excel file ser_mor, get patients names that completed study, and search for these chars in the file system\n",
    "# check if any string in list matches a segment of the selected list in file_list\n",
    "def get_list(mat):\n",
    "    data = []\n",
    "    real = []\n",
    "    df = pd.read_excel('File.xlsx', sheetname='all_fmri_pat')\n",
    "    col2 = df['label_w8_res_completer']\n",
    "    inds = [(i for val in vals if (vals[i] = 1))]\n",
    "    col1 = df['RID']\n",
    "    names = [col1[i] for i in col1 if (i in inds)]\n",
    "    df = pd.read_excel('File.xlsx', sheetname='Book2')\n",
    "    pat = df['Patients']\n",
    "    real = [(pat[i] for i in pat if (1 for name in names if (name in pat[i])))]\n",
    "    comp = [(mat + r + 'csv' for r in real)]\n",
    "    for c in comp:\n",
    "        with open(c, newline='') as csvfile:\n",
    "            data.append(np.array(csv.reader(csvfile)))\n",
    "    return data\n",
    "    "
   ]
  },
  {
   "cell_type": "code",
   "execution_count": null,
   "metadata": {},
   "outputs": [],
   "source": [
    "def reg_ml():\n",
    "    "
   ]
  },
  {
   "cell_type": "code",
   "execution_count": 5,
   "metadata": {},
   "outputs": [],
   "source": [
    "# data[i][j][k] -> i, j are correlation matrix size, j is number of patients, you want to average each individual i, j for every patient\n",
    "def get_min(data):\n",
    "    m = []\n",
    "    for (i : len(data)):\n",
    "        for (j : len(data[])):\n",
    "            min = data[i][j][0];\n",
    "            for (k : len(data[][])):\n",
    "                if (data[i][j][k] < min):\n",
    "                    min = data[i][j][k]\n",
    "            m.append(min)\n",
    "    return min\n",
    "\n",
    "def get_max(data):\n",
    "    m = []\n",
    "    for (i : len(data)):\n",
    "        for (j : len(data[])):\n",
    "            max = data[i][j][0];\n",
    "            for (k : len(data[][])):\n",
    "                if (data[i][j][k] > max):\n",
    "                    max = data[i][j][k]\n",
    "            m.append(max)\n",
    "    return max        "
   ]
  },
  {
   "cell_type": "code",
   "execution_count": null,
   "metadata": {},
   "outputs": [],
   "source": [
    "def retrieve_min(i, j mi):\n",
    "    return mi[i][j]\n",
    "\n",
    "def retrieve_max(i, j, ma):\n",
    "    return ma[i][j]"
   ]
  },
  {
   "cell_type": "code",
   "execution_count": null,
   "metadata": {},
   "outputs": [],
   "source": [
    "def gen_mat(i, j, k):\n",
    "    art = np.array([i, j, k])\n",
    "    for (i : len(i)):\n",
    "        for (j : len(j)):\n",
    "            for (k : len(k))\n",
    "                min, max = retrieve_min[i][j], retrieve_max[i][j]\n",
    "                mean = (min + max) / 2\n",
    "                mu, sigma = mean, (max - min) / 4\n",
    "                art[i][j][k] = np.random.normal(mu, sigma, 1000)"
   ]
  },
  {
   "cell_type": "code",
   "execution_count": null,
   "metadata": {},
   "outputs": [],
   "source": []
  }
 ],
 "metadata": {
  "kernelspec": {
   "display_name": "Python 3",
   "language": "python",
   "name": "python3"
  },
  "language_info": {
   "codemirror_mode": {
    "name": "ipython",
    "version": 3
   },
   "file_extension": ".py",
   "mimetype": "text/x-python",
   "name": "python",
   "nbconvert_exporter": "python",
   "pygments_lexer": "ipython3",
   "version": "3.7.1"
  }
 },
 "nbformat": 4,
 "nbformat_minor": 2
}
