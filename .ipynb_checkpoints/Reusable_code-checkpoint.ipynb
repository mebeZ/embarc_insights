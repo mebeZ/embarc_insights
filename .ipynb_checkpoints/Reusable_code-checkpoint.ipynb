{
 "cells": [
  {
   "cell_type": "code",
   "execution_count": null,
   "metadata": {},
   "outputs": [],
   "source": [
    "# data[i][j][k] -> i, j are correlation matrix size, j is number of patients, you want to average each individual i, j for every patient\n",
    "def get_min(data):\n",
    "    m = []\n",
    "    for (i : len(data)):\n",
    "        for (j : len(data[])):\n",
    "            min = data[i][j][0];\n",
    "            for (k : len(data[][])):\n",
    "                if (data[i][j][k] < min):\n",
    "                    min = data[i][j][k]\n",
    "            m.append(min)\n",
    "    return min\n",
    "\n",
    "def get_max(data):\n",
    "    m = []\n",
    "    for (i : len(data)):\n",
    "        for (j : len(data[])):\n",
    "            max = data[i][j][0];\n",
    "            for (k : len(data[][])):\n",
    "                if (data[i][j][k] > max):\n",
    "                    max = data[i][j][k]\n",
    "            m.append(max)\n",
    "    return max        "
   ]
  },
  {
   "cell_type": "code",
   "execution_count": null,
   "metadata": {},
   "outputs": [],
   "source": [
    "def retrieve_min(i, j mi):\n",
    "    return mi[i][j]\n",
    "\n",
    "def retrieve_max(i, j, ma):\n",
    "    return ma[i][j]"
   ]
  },
  {
   "cell_type": "code",
   "execution_count": null,
   "metadata": {},
   "outputs": [],
   "source": [
    "def gen_mats(i, j, k):\n",
    "    art = np.array([i, j, k])\n",
    "    for (int pat : k):\n",
    "        min, max = get_min(art), get_max(art)\n",
    "        art[0][0][k] = np.random((min + max) / 2, (max - min) / 4)\n",
    "        for (i : len(i)):\n",
    "            for (j : len(j)):\n",
    "                art[i][j][k] = a"
   ]
  }
 ],
 "metadata": {
  "kernelspec": {
   "display_name": "Python 3",
   "language": "python",
   "name": "python3"
  },
  "language_info": {
   "codemirror_mode": {
    "name": "ipython",
    "version": 3
   },
   "file_extension": ".py",
   "mimetype": "text/x-python",
   "name": "python",
   "nbconvert_exporter": "python",
   "pygments_lexer": "ipython3",
   "version": "3.7.1"
  }
 },
 "nbformat": 4,
 "nbformat_minor": 2
}
