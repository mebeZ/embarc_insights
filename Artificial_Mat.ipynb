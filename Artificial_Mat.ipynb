{
 "cells": [
  {
   "cell_type": "code",
   "execution_count": 1,
   "metadata": {},
   "outputs": [
    {
     "name": "stdout",
     "output_type": "stream",
     "text": [
      "hello world\n"
     ]
    }
   ],
   "source": [
    "def main():\n",
    "    print(\"hello world\")\n",
    "    \n",
    "if __name__ == \"__main__\":\n",
    "    main()"
   ]
  },
  {
   "cell_type": "code",
   "execution_count": 1,
   "metadata": {},
   "outputs": [],
   "source": [
    "import sklearn\n",
    "import numpy as np\n",
    "import csv\n",
    "import scipy.io\n",
    "import xlrd\n",
    "import pandas as pd\n",
    "from pandas import ExcelFile\n",
    "from pandas import ExcelWriter\n",
    "import os\n",
    "from sklearn.preprocessing import StandardScaler\n",
    "from sklearn.model_selection import train_test_split\n",
    "from sklearn.naive_bayes import GaussianNB\n",
    "from sklearn.svm import SVC"
   ]
  },
  {
   "cell_type": "code",
   "execution_count": 3,
   "metadata": {},
   "outputs": [],
   "source": [
    "rootdir = 'C:/Users/Zman/Desktop/Jiook/code_embarc/data/connectome_fmri'"
   ]
  },
  {
   "cell_type": "code",
   "execution_count": 14,
   "metadata": {},
   "outputs": [],
   "source": [
    "# method 1: find all patients in file, then compare ser_mor and fmri_list files, eliminate, and then compare remaining names with all patients, eliminate\n",
    "# method 2: look at excel file ser_mor, get patients names that completed study, and search for these chars in the file system\n",
    "# check if any string in list matches a segment of the selected list in file_list\n",
    "def get_list():\n",
    "    labels = []\n",
    "    data = []\n",
    "    real = []\n",
    "    df = pd.read_excel('File.xlsx', sheetname='all_fmri_pat')\n",
    "    col2 = df['label_w8_res_completer']\n",
    "    inds = [(i for val in vals if (vals[i] = 1))]\n",
    "    labels.append[df['label_remission'] for i in inds]\n",
    "    col1 = df['RID']\n",
    "    names = [col1[i] for i in col1 if (i in inds)]\n",
    "    df = pd.read_excel('File.xlsx', sheetname='Book2')\n",
    "    pat = df['Patients']\n",
    "    real = [(pat[i] for i in pat if (1 for name in names if (name in pat[i])))]\n",
    "    comp = [((rootdir + r + 'csv') for r in real)]\n",
    "    for c in comp:\n",
    "        with open(c, newline='') as csvfile:\n",
    "            data.append(np.array(csv.reader(csvfile)))\n",
    "    return data, labels # returns 86 patients with labels -- the patients in the non-placebo group who have completed the study\n",
    "\n"
   ]
  },
  {
   "cell_type": "code",
   "execution_count": null,
   "metadata": {},
   "outputs": [],
   "source": [
    "def binary_classifier(features, labels): # a simple classifier that when given a bunch of correlation matrices and labels, will predict label on new matrices.\n",
    "    train, test, train_labels, test_labels = train_test_split(features, labels, test_size=0.3, random_state=42) # splits features w/ labels into training and testing sets\n",
    "    gnb = GaussianNB()\n",
    "    model = gnb.fit(train, train_labels)\n",
    "    preds = model.pred(test, test_labels)\n",
    "    print(accuracy_score(test_labels, preds))\n",
    "    correct = []\n",
    "    for (n : len(preds)):\n",
    "        if (preds[n] == test_labels[n]):\n",
    "            correct.append(1)\n",
    "        else :\n",
    "            correct.append(0)\n",
    "    return correct, model"
   ]
  },
  {
   "cell_type": "code",
   "execution_count": 5,
   "metadata": {},
   "outputs": [],
   "source": [
    "features, labels = get_list()\n",
    "corr, mod = binary_classifier(features, labels)\n",
    "m = binary_classifier(features, corr) # gives \"sureness\" of prediction\n",
    "# problematic because this only has 33% of data. I want to record accuracy throughout process."
   ]
  },
  {
   "cell_type": "code",
   "execution_count": null,
   "metadata": {},
   "outputs": [],
   "source": [
    "def new_classifier(features, labels): # if sureness if lower than a threshold, then use classification of new\n",
    "    threshold = 0.5\n",
    "    train, test, train_labels, test_labels = train_test_split(features, labels, test_size=0.3, random_state=42)\n",
    "    svc = SVC()\n",
    "    model = svc.fit(train, train_labels)\n",
    "    for i in len(test):\n",
    "        if (m.pred(test[i], test_labels[i]) < threshold):\n",
    "            preds = svc.pred(test[i], test_labels[i])\n",
    "        else:\n",
    "            preds = m.pred(test[i], test_labels[i])\n",
    "    print(accuracy_score(test_labels, preds))"
   ]
  },
  {
   "cell_type": "code",
   "execution_count": null,
   "metadata": {},
   "outputs": [],
   "source": [
    "print(binary_classifier(features, labels))\n",
    "print(new_classifier(features, labels))"
   ]
  }
 ],
 "metadata": {
  "kernelspec": {
   "display_name": "Python 3",
   "language": "python",
   "name": "python3"
  },
  "language_info": {
   "codemirror_mode": {
    "name": "ipython",
    "version": 3
   },
   "file_extension": ".py",
   "mimetype": "text/x-python",
   "name": "python",
   "nbconvert_exporter": "python",
   "pygments_lexer": "ipython3",
   "version": "3.7.1"
  }
 },
 "nbformat": 4,
 "nbformat_minor": 2
}
